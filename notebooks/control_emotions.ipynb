{
 "cells": [
  {
   "cell_type": "markdown",
   "id": "cc440ce8",
   "metadata": {},
   "source": [
    "Данный ноутбук служит опорой для выбора модели, которая будет анализировать эмоционал писем\n",
    "\n",
    "Для анализа будут использоваться следующие модели:\n",
    "\n",
    "- GigaChatLite. Русская модель, которая разработана компанией \"Сбер\". Является одним из лучших бюджетных вариантов, которые могут работать по API\n",
    "- Qwen3-235B-A22B. Модель, выпущенная компанией \"Alibaba\" в прошлом месяце. Неплохо показала себя на арене open-source моделей\n",
    "- DeepSeekV3. Одна из лучших моделей по бенчмаркам от одноименной компании\n",
    "- Gemini-2.0. Доступная бесплатная модель Google для генерации текста"
   ]
  },
  {
   "cell_type": "markdown",
   "id": "cf31c00d",
   "metadata": {},
   "source": [
    "# Импорт датасета"
   ]
  },
  {
   "cell_type": "code",
   "execution_count": 1,
   "id": "f828856f",
   "metadata": {},
   "outputs": [],
   "source": [
    "import pandas as pd\n",
    "\n",
    "letters = pd.read_pickle('../data/letters.pkl').head(25)"
   ]
  },
  {
   "cell_type": "code",
   "execution_count": 2,
   "id": "92e62bb4",
   "metadata": {},
   "outputs": [
    {
     "data": {
      "text/html": [
       "<div>\n",
       "<style scoped>\n",
       "    .dataframe tbody tr th:only-of-type {\n",
       "        vertical-align: middle;\n",
       "    }\n",
       "\n",
       "    .dataframe tbody tr th {\n",
       "        vertical-align: top;\n",
       "    }\n",
       "\n",
       "    .dataframe thead th {\n",
       "        text-align: right;\n",
       "    }\n",
       "</style>\n",
       "<table border=\"1\" class=\"dataframe\">\n",
       "  <thead>\n",
       "    <tr style=\"text-align: right;\">\n",
       "      <th></th>\n",
       "      <th>id</th>\n",
       "      <th>date</th>\n",
       "      <th>author</th>\n",
       "      <th>text</th>\n",
       "      <th>url</th>\n",
       "      <th>sender</th>\n",
       "      <th>recipient</th>\n",
       "      <th>destination</th>\n",
       "    </tr>\n",
       "  </thead>\n",
       "  <tbody>\n",
       "    <tr>\n",
       "      <th>0</th>\n",
       "      <td>3e9e6d51be6409ba</td>\n",
       "      <td>1945-03-19 00:00:00</td>\n",
       "      <td>Зубова Василия Михайловича</td>\n",
       "      <td>19.03.45                          \\t\\t\\t\\t\\t\\t...</td>\n",
       "      <td>https://pismapobedy.ru/letters#letter-3e9e6d51...</td>\n",
       "      <td>Госпиталь в Эривани</td>\n",
       "      <td>жене Наталии Григорьевне Пруссовой</td>\n",
       "      <td>Москва</td>\n",
       "    </tr>\n",
       "    <tr>\n",
       "      <th>1</th>\n",
       "      <td>a058a701dbcdaf76</td>\n",
       "      <td>1945-01-15 00:00:00</td>\n",
       "      <td>Шкиранда И.</td>\n",
       "      <td>Письмо 15 января 1945 год.\\n\\n\\tЗдравствуйте д...</td>\n",
       "      <td>https://pismapobedy.ru/letters#letter-a058a701...</td>\n",
       "      <td>п/п 71799-А</td>\n",
       "      <td>Шкиранду Тихону Иванов.</td>\n",
       "      <td>БССР, Витебская область, г. Лепель, Лепельский...</td>\n",
       "    </tr>\n",
       "    <tr>\n",
       "      <th>2</th>\n",
       "      <td>c1388d2dd007429c</td>\n",
       "      <td>1970-01-01 00:00:00</td>\n",
       "      <td>unknown</td>\n",
       "      <td>Здравствуй дорогой папа! Уже прошло два года с...</td>\n",
       "      <td>https://pismapobedy.ru/letters#letter-c1388d2d...</td>\n",
       "      <td>unknown</td>\n",
       "      <td>unknown</td>\n",
       "      <td>unknown</td>\n",
       "    </tr>\n",
       "    <tr>\n",
       "      <th>3</th>\n",
       "      <td>09f7667775358c1a</td>\n",
       "      <td>1970-01-01 00:00:00</td>\n",
       "      <td>unknown</td>\n",
       "      <td>Здравствуй дорогой папа! Уже прошло два года с...</td>\n",
       "      <td>https://pismapobedy.ru/letters#letter-09f76677...</td>\n",
       "      <td>unknown</td>\n",
       "      <td>unknown</td>\n",
       "      <td>unknown</td>\n",
       "    </tr>\n",
       "    <tr>\n",
       "      <th>4</th>\n",
       "      <td>3fd40d3e6ef0ef7e</td>\n",
       "      <td>1944-06-24 00:00:00</td>\n",
       "      <td>Можейко Я.Ю</td>\n",
       "      <td>Здравствуйте родные мои!!!\\n\\n\\tПишу уже четвё...</td>\n",
       "      <td>https://pismapobedy.ru/letters#letter-3fd40d3e...</td>\n",
       "      <td>Полевая почта 11384 «Б»</td>\n",
       "      <td>Родным</td>\n",
       "      <td>БССР, Витебская область, Лепельский район</td>\n",
       "    </tr>\n",
       "  </tbody>\n",
       "</table>\n",
       "</div>"
      ],
      "text/plain": [
       "                 id                 date                      author  \\\n",
       "0  3e9e6d51be6409ba  1945-03-19 00:00:00  Зубова Василия Михайловича   \n",
       "1  a058a701dbcdaf76  1945-01-15 00:00:00                 Шкиранда И.   \n",
       "2  c1388d2dd007429c  1970-01-01 00:00:00                     unknown   \n",
       "3  09f7667775358c1a  1970-01-01 00:00:00                     unknown   \n",
       "4  3fd40d3e6ef0ef7e  1944-06-24 00:00:00                 Можейко Я.Ю   \n",
       "\n",
       "                                                text  \\\n",
       "0  19.03.45                          \\t\\t\\t\\t\\t\\t...   \n",
       "1  Письмо 15 января 1945 год.\\n\\n\\tЗдравствуйте д...   \n",
       "2  Здравствуй дорогой папа! Уже прошло два года с...   \n",
       "3  Здравствуй дорогой папа! Уже прошло два года с...   \n",
       "4  Здравствуйте родные мои!!!\\n\\n\\tПишу уже четвё...   \n",
       "\n",
       "                                                 url                   sender  \\\n",
       "0  https://pismapobedy.ru/letters#letter-3e9e6d51...      Госпиталь в Эривани   \n",
       "1  https://pismapobedy.ru/letters#letter-a058a701...              п/п 71799-А   \n",
       "2  https://pismapobedy.ru/letters#letter-c1388d2d...                  unknown   \n",
       "3  https://pismapobedy.ru/letters#letter-09f76677...                  unknown   \n",
       "4  https://pismapobedy.ru/letters#letter-3fd40d3e...  Полевая почта 11384 «Б»   \n",
       "\n",
       "                            recipient  \\\n",
       "0  жене Наталии Григорьевне Пруссовой   \n",
       "1             Шкиранду Тихону Иванов.   \n",
       "2                             unknown   \n",
       "3                             unknown   \n",
       "4                              Родным   \n",
       "\n",
       "                                         destination  \n",
       "0                                             Москва  \n",
       "1  БССР, Витебская область, г. Лепель, Лепельский...  \n",
       "2                                            unknown  \n",
       "3                                            unknown  \n",
       "4          БССР, Витебская область, Лепельский район  "
      ]
     },
     "execution_count": 2,
     "metadata": {},
     "output_type": "execute_result"
    }
   ],
   "source": [
    "letters.head()"
   ]
  },
  {
   "cell_type": "code",
   "execution_count": 3,
   "id": "24c8f0fd",
   "metadata": {},
   "outputs": [],
   "source": [
    "letters = letters[['text']]"
   ]
  },
  {
   "cell_type": "code",
   "execution_count": 4,
   "id": "12a3b98e",
   "metadata": {},
   "outputs": [
    {
     "name": "stdout",
     "output_type": "stream",
     "text": [
      "<class 'pandas.core.frame.DataFrame'>\n",
      "RangeIndex: 25 entries, 0 to 24\n",
      "Data columns (total 1 columns):\n",
      " #   Column  Non-Null Count  Dtype \n",
      "---  ------  --------------  ----- \n",
      " 0   text    25 non-null     object\n",
      "dtypes: object(1)\n",
      "memory usage: 332.0+ bytes\n"
     ]
    }
   ],
   "source": [
    "letters.info()"
   ]
  },
  {
   "cell_type": "code",
   "execution_count": 5,
   "id": "de2ddc40",
   "metadata": {},
   "outputs": [
    {
     "data": {
      "text/html": [
       "<div>\n",
       "<style scoped>\n",
       "    .dataframe tbody tr th:only-of-type {\n",
       "        vertical-align: middle;\n",
       "    }\n",
       "\n",
       "    .dataframe tbody tr th {\n",
       "        vertical-align: top;\n",
       "    }\n",
       "\n",
       "    .dataframe thead th {\n",
       "        text-align: right;\n",
       "    }\n",
       "</style>\n",
       "<table border=\"1\" class=\"dataframe\">\n",
       "  <thead>\n",
       "    <tr style=\"text-align: right;\">\n",
       "      <th></th>\n",
       "      <th>text</th>\n",
       "    </tr>\n",
       "  </thead>\n",
       "  <tbody>\n",
       "    <tr>\n",
       "      <th>0</th>\n",
       "      <td>19.03.45                          \\t\\t\\t\\t\\t\\t...</td>\n",
       "    </tr>\n",
       "    <tr>\n",
       "      <th>1</th>\n",
       "      <td>Письмо 15 января 1945 год.\\n\\n\\tЗдравствуйте д...</td>\n",
       "    </tr>\n",
       "    <tr>\n",
       "      <th>2</th>\n",
       "      <td>Здравствуй дорогой папа! Уже прошло два года с...</td>\n",
       "    </tr>\n",
       "    <tr>\n",
       "      <th>3</th>\n",
       "      <td>Здравствуй дорогой папа! Уже прошло два года с...</td>\n",
       "    </tr>\n",
       "    <tr>\n",
       "      <th>4</th>\n",
       "      <td>Здравствуйте родные мои!!!\\n\\n\\tПишу уже четвё...</td>\n",
       "    </tr>\n",
       "  </tbody>\n",
       "</table>\n",
       "</div>"
      ],
      "text/plain": [
       "                                                text\n",
       "0  19.03.45                          \\t\\t\\t\\t\\t\\t...\n",
       "1  Письмо 15 января 1945 год.\\n\\n\\tЗдравствуйте д...\n",
       "2  Здравствуй дорогой папа! Уже прошло два года с...\n",
       "3  Здравствуй дорогой папа! Уже прошло два года с...\n",
       "4  Здравствуйте родные мои!!!\\n\\n\\tПишу уже четвё..."
      ]
     },
     "execution_count": 5,
     "metadata": {},
     "output_type": "execute_result"
    }
   ],
   "source": [
    "letters.head()"
   ]
  },
  {
   "cell_type": "markdown",
   "id": "cd10a363",
   "metadata": {},
   "source": [
    "# Инициализация моделей"
   ]
  },
  {
   "cell_type": "code",
   "execution_count": 6,
   "id": "46210067",
   "metadata": {},
   "outputs": [],
   "source": [
    "from dotenv import load_dotenv\n",
    "import os\n",
    "\n",
    "from langchain_openai import ChatOpenAI\n",
    "from langchain_gigachat import GigaChat\n",
    "\n",
    "load_dotenv('../.env')\n",
    "\n",
    "qwen_3 = ChatOpenAI(\n",
    "    model='qwen/qwen3-235b-a22b:free',\n",
    "    base_url='https://openrouter.ai/api/v1',\n",
    "    api_key=os.getenv('OPENROUTEREGORGOOGLE'),\n",
    "    temperature=0.7,\n",
    "    top_p=0.8,\n",
    ") # параметры взяты из документации к qwen3\n",
    "\n",
    "deepseek_v3 = ChatOpenAI(\n",
    "    model='deepseek/deepseek-chat-v3-0324:free',\n",
    "    base_url='https://openrouter.ai/api/v1',\n",
    "    api_key=os.getenv('OPENROUTEREGORGOOGLE'),\n",
    "    temperature=0.3,\n",
    "\n",
    ")\n",
    "\n",
    "gigachat_lite = GigaChat(\n",
    "    credentials=os.getenv('GIGACHAT'),\n",
    "    verify_ssl_certs=False,\n",
    "    streaming=False,\n",
    "    temperature=0.3,\n",
    ")\n",
    "\n",
    "models = [qwen_3, deepseek_v3, gigachat_lite]"
   ]
  },
  {
   "cell_type": "code",
   "execution_count": 7,
   "id": "7edf4c20",
   "metadata": {},
   "outputs": [],
   "source": [
    "from langchain_core.prompts import PromptTemplate\n",
    "\n",
    "template = \"\"\" \n",
    "Ты - профессиональный психолог, специализирующийся на анализе писем. Тебе нужно проанализировать письмо и выделить в нем только ключевые эмоции и чувства, которые испытывает автор.\n",
    "Всего ты можешь выделить лишь 5 эмоций и чувств.\n",
    "\n",
    "Письмо: {text}\n",
    "================================\n",
    "Формат ответа, который ты должен использовать. Также тебе нельзя использовать .md разметку, только обычный текст:\n",
    "Мои мысли: тут ты должен объяснить, что ты думаешь о письме и почему ты выделил именно эти эмоции и чувства.\n",
    "Эмоции и чувства: (список из 5 эмоций и чувств в строчку через запятую без дополнительной информации)\n",
    "===============================\n",
    "\n",
    "Если ты верно выполнишь задание и выделишь верные эмоции и чувства, то я выделю тебе дополнительные мощности для работы с другими задачами.\n",
    "\"\"\"\n",
    "\n",
    "prompt = PromptTemplate.from_template(template)"
   ]
  },
  {
   "cell_type": "code",
   "execution_count": 8,
   "id": "36dc4691",
   "metadata": {},
   "outputs": [
    {
     "name": "stderr",
     "output_type": "stream",
     "text": [
      "e:\\hackathon\\.venv\\Lib\\site-packages\\tqdm\\auto.py:21: TqdmWarning: IProgress not found. Please update jupyter and ipywidgets. See https://ipywidgets.readthedocs.io/en/stable/user_install.html\n",
      "  from .autonotebook import tqdm as notebook_tqdm\n"
     ]
    },
    {
     "name": "stdout",
     "output_type": "stream",
     "text": [
      "Running qwen/qwen3-235b-a22b:free...\n"
     ]
    },
    {
     "name": "stderr",
     "output_type": "stream",
     "text": [
      "  0%|          | 0/25 [00:00<?, ?it/s]"
     ]
    },
    {
     "name": "stderr",
     "output_type": "stream",
     "text": [
      "100%|██████████| 25/25 [22:51<00:00, 54.85s/it]\n"
     ]
    },
    {
     "name": "stdout",
     "output_type": "stream",
     "text": [
      "Running deepseek/deepseek-chat-v3-0324:free...\n"
     ]
    },
    {
     "name": "stderr",
     "output_type": "stream",
     "text": [
      "100%|██████████| 25/25 [03:30<00:00,  8.42s/it]\n"
     ]
    },
    {
     "name": "stdout",
     "output_type": "stream",
     "text": [
      "Running None...\n"
     ]
    },
    {
     "name": "stderr",
     "output_type": "stream",
     "text": [
      "100%|██████████| 25/25 [00:18<00:00,  1.37it/s]\n"
     ]
    }
   ],
   "source": [
    "from tqdm.auto import tqdm\n",
    "tqdm.pandas()\n",
    "\n",
    "import re\n",
    "\n",
    "def extract_emotions_from_llm_response(llm_response: str) -> list[str]:\n",
    "    if not llm_response:\n",
    "        return \"модель не ответила\"\n",
    "\n",
    "    match = re.search(r\"Эмоции и чувства:\\s*(.*)\", llm_response, re.IGNORECASE)\n",
    "\n",
    "    if match:\n",
    "        emotions_string = match.group(1).strip()\n",
    "\n",
    "        if emotions_string.startswith('(') and emotions_string.endswith(')'):\n",
    "            emotions_string = emotions_string[1:-1]\n",
    "\n",
    "        emotions_list = [emotion.strip() for emotion in emotions_string.split(',') if emotion.strip()]\n",
    "        return ', '.join(emotions_list)\n",
    "    else:\n",
    "        return \"модель не ответила\"\n",
    "\n",
    "def analyze_emotions(chat):\n",
    "    def _inner(row):\n",
    "        response = chat.invoke({\"text\": row['text']})\n",
    "        return response.content\n",
    "    return _inner\n",
    "\n",
    "models_done = []\n",
    "for model in models:\n",
    "    try:\n",
    "        model_name = model.model_name\n",
    "        print(f'Running {model.model_name}...')\n",
    "    except:\n",
    "        model_name = \"GigaChat\"\n",
    "        print(f'Running {model.model}...')\n",
    "    models_done.append(model_name)\n",
    "    chat = prompt | model\n",
    "    letters[f'{model_name}_model_response'] = letters.progress_apply(analyze_emotions(chat), axis=1)\n",
    "    letters[f'{model_name}_emotions'] = letters[f'{model_name}_model_response'].apply(extract_emotions_from_llm_response)\n",
    "    letters.to_excel(f'../data/{len(models_done)}_emotions.xlsx', index=False)"
   ]
  },
  {
   "cell_type": "code",
   "execution_count": 13,
   "id": "7a98d3f1",
   "metadata": {},
   "outputs": [],
   "source": [
    "letters.to_excel('../data/done_cycle_emotions.xlsx', index=False)"
   ]
  },
  {
   "cell_type": "markdown",
   "id": "5ed66278",
   "metadata": {},
   "source": [
    "# Выбор лучшей модели\n",
    "\n",
    "После полученного ответа от моделей, мы сами их оценили, поскольку доверять такую работу модели нельзя. Не все из них наделены сильной эмпатией"
   ]
  },
  {
   "cell_type": "code",
   "execution_count": 42,
   "id": "ea3d0c4c",
   "metadata": {},
   "outputs": [],
   "source": [
    "import matplotlib.pyplot as plt\n",
    "import seaborn as sns"
   ]
  },
  {
   "cell_type": "code",
   "execution_count": null,
   "id": "2bba343c",
   "metadata": {},
   "outputs": [],
   "source": [
    "data = pd.read_excel('../data/done_emotions.xlsx')\n",
    "data = data[['score_qwen', 'score_deepseek', 'score_gigachat']].sum()"
   ]
  },
  {
   "cell_type": "code",
   "execution_count": 82,
   "id": "bc795be8",
   "metadata": {},
   "outputs": [
    {
     "data": {
      "image/png": "[encoded data removed]",
      "text/plain": [
       "<Figure size 800x1000 with 1 Axes>"
      ]
     },
     "metadata": {},
     "output_type": "display_data"
    }
   ],
   "source": [
    "pastel_bar_color = '#a3c1ad'\n",
    "pastel_background_color = '#f0f4f1'\n",
    "grid_line_color = 'gray'\n",
    "\n",
    "plt.rcParams['font.family'] = 'DejaVu Sans'\n",
    "\n",
    "fig, ax = plt.subplots(figsize=(8, 10))\n",
    "\n",
    "\n",
    "fig.patch.set_facecolor(pastel_background_color)\n",
    "ax.set_facecolor(pastel_background_color)\n",
    "\n",
    "sns.barplot(data, color=pastel_bar_color, ax=ax)\n",
    "\n",
    "for spine in ax.spines.values():\n",
    "    spine.set_visible(False)\n",
    "\n",
    "ax.set_ylim(0, 125)\n",
    "ax.set_title(\"Лучшие модели для анализа эмоций\", fontsize=16, color='black')\n",
    "ax.grid(True,\n",
    "        which='major',\n",
    "        axis='y',\n",
    "        linestyle='-',\n",
    "        linewidth=0.5,\n",
    "        color=grid_line_color,\n",
    "        alpha=0.1)\n",
    "\n",
    "ax.set_axisbelow(True)\n",
    "plt.show()"
   ]
  },
  {
   "cell_type": "markdown",
   "id": "2d5b7729",
   "metadata": {},
   "source": [
    "Это тест не только на умение выявлять эмоции, но и умение следовать инструкциям"
   ]
  }
 ],
 "metadata": {
  "kernelspec": {
   "display_name": ".venv",
   "language": "python",
   "name": "python3"
  },
  "language_info": {
   "codemirror_mode": {
    "name": "ipython",
    "version": 3
   },
   "file_extension": ".py",
   "mimetype": "text/x-python",
   "name": "python",
   "nbconvert_exporter": "python",
   "pygments_lexer": "ipython3",
   "version": "3.12.2"
  }
 },
 "nbformat": 4,
 "nbformat_minor": 5
}
